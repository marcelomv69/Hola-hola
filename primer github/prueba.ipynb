{
 "cells": [
  {
   "cell_type": "code",
   "execution_count": null,
   "id": "30bd0884-a5bf-4086-a467-25d4d29ce50d",
   "metadata": {},
   "outputs": [],
   "source": []
  }
 ],
 "metadata": {
  "kernelspec": {
   "display_name": "",
   "name": ""
  },
  "language_info": {
   "name": ""
  }
 },
 "nbformat": 4,
 "nbformat_minor": 5
}
